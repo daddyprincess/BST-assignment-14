{
 "cells": [
  {
   "cell_type": "markdown",
   "id": "fd031801-573f-4859-8b4a-8b7f55e4fc7d",
   "metadata": {},
   "source": [
    "## 1.Unique Binary Search Trees"
   ]
  },
  {
   "cell_type": "code",
   "execution_count": 36,
   "id": "6db109ea-0fe5-4f73-9648-1d82a4ec79a1",
   "metadata": {},
   "outputs": [
    {
     "name": "stdout",
     "output_type": "stream",
     "text": [
      "5\n",
      "1\n"
     ]
    }
   ],
   "source": [
    "def numTrees(n):\n",
    "    dp = [0] * (n + 1)\n",
    "    dp[0] = dp[1] = 1\n",
    "\n",
    "    for i in range(2, n + 1):\n",
    "        for j in range(1, i + 1):\n",
    "            dp[i] += dp[j - 1] * dp[i - j]\n",
    "\n",
    "    return dp[n]\n",
    "\n",
    "# Test cases\n",
    "print(numTrees(3)) \n",
    "print(numTrees(1))  "
   ]
  },
  {
   "cell_type": "markdown",
   "id": "07b31894-f737-4483-b32e-ad776efec49a",
   "metadata": {},
   "source": [
    "## 2.Validate Binary Search Tree"
   ]
  },
  {
   "cell_type": "code",
   "execution_count": 37,
   "id": "8d51368f-ccbd-4bf1-83be-b2222ab0af13",
   "metadata": {},
   "outputs": [
    {
     "name": "stdout",
     "output_type": "stream",
     "text": [
      "True\n",
      "False\n"
     ]
    }
   ],
   "source": [
    "class TreeNode:\n",
    "    def __init__(self, val=0, left=None, right=None):\n",
    "        self.val = val\n",
    "        self.left = left\n",
    "        self.right = right\n",
    "\n",
    "def is_valid_bst_helper(node, min_val, max_val):\n",
    "    if not node:\n",
    "        return True\n",
    "\n",
    "    if node.val <= min_val or node.val >= max_val:\n",
    "        return False\n",
    "\n",
    "    return is_valid_bst_helper(node.left, min_val, node.val) and \\\n",
    "           is_valid_bst_helper(node.right, node.val, max_val)\n",
    "\n",
    "def is_valid_bst(root):\n",
    "    return is_valid_bst_helper(root, float('-inf'), float('inf'))\n",
    "\n",
    "# Test cases\n",
    "# Example 1\n",
    "root1 = TreeNode(2)\n",
    "root1.left = TreeNode(1)\n",
    "root1.right = TreeNode(3)\n",
    "print(is_valid_bst(root1))  \n",
    "\n",
    "# Example 2\n",
    "root2 = TreeNode(5)\n",
    "root2.left = TreeNode(1)\n",
    "root2.right = TreeNode(4)\n",
    "root2.right.left = TreeNode(3)\n",
    "root2.right.right = TreeNode(6)\n",
    "print(is_valid_bst(root2))  "
   ]
  },
  {
   "cell_type": "code",
   "execution_count": null,
   "id": "c872f23c-0860-4574-9031-c29f53fd7ef9",
   "metadata": {},
   "outputs": [],
   "source": [
    "To determine if a binary tree is a valid binary search tree (BST), we can perform an inorder traversal of\n",
    "the tree and check if the elements encountered in the traversal are in strictly increasing order. Since for \n",
    "a BST, the inorder traversal will produce elements in ascending order, this property can be used to validate\n",
    "whether the tree is a valid BST.\n",
    "\n",
    "Here's the step-by-step algorithm to check if a binary tree is a valid BST:\n",
    "\n",
    "1.Perform an inorder traversal of the binary tree and store the elements in a list.\n",
    "2.Check if the elements in the list are in strictly increasing order. If they are, return True, indicating\n",
    " that the tree is a valid BST. Otherwise, return False."
   ]
  },
  {
   "cell_type": "markdown",
   "id": "318b0d30-4feb-4bb7-9520-930fb0f4d8c1",
   "metadata": {},
   "source": [
    "## 3.Recover Binary Search Tree"
   ]
  },
  {
   "cell_type": "code",
   "execution_count": null,
   "id": "36934f40-eb86-4b63-aad6-f8815e4fe5bf",
   "metadata": {},
   "outputs": [],
   "source": [
    "class TreeNode:\n",
    "    def __init__(self, val=0, left=None, right=None):\n",
    "        self.val = val\n",
    "        self.left = left\n",
    "        self.right = right\n",
    "\n",
    "def recoverTree(root):\n",
    "    first, second, prev, curr = None, None, None, root\n",
    "\n",
    "    while curr:\n",
    "        if curr.left:\n",
    "            predecessor = curr.left\n",
    "            while predecessor.right and predecessor.right != curr:\n",
    "                predecessor = predecessor.right\n",
    "\n",
    "            if not predecessor.right:\n",
    "                predecessor.right = curr\n",
    "                curr = curr.left\n",
    "            else:\n",
    "                predecessor.right = None\n",
    "                if prev and curr.val < prev.val:\n",
    "                    if not first:\n",
    "                        first = prev\n",
    "                    second = curr\n",
    "                prev = curr\n",
    "                curr = curr.right\n",
    "        else:\n",
    "            if prev and curr.val < prev.val:\n",
    "                if not first:\n",
    "                    first = prev\n",
    "                second = curr\n",
    "            prev = curr\n",
    "            curr = curr.right\n",
    "\n",
    "    first.val, second.val = second.val, first.val\n",
    "\n",
    "# Test cases\n",
    "# Example 1\n",
    "root1 = TreeNode(1)\n",
    "root1.left = TreeNode(3)\n",
    "root1.left.right = TreeNode(2)\n",
    "recoverTree(root1)  # Output: [3,1,null,null,2]\n",
    "\n",
    "# Example 2\n",
    "root2 = TreeNode(3)\n",
    "root2.left = TreeNode(1)\n",
    "root2.right = TreeNode(4)\n",
    "root2.right.left = TreeNode(2)\n",
    "recoverTree(root2)  # Output: [2,1,4,null,null,3]"
   ]
  },
  {
   "cell_type": "code",
   "execution_count": null,
   "id": "26d0fb14-59bf-477a-b2d2-4ecf85cb3e55",
   "metadata": {},
   "outputs": [],
   "source": [
    "To recover a binary search tree (BST) where the values of exactly two nodes have been swapped by mistake, we\n",
    "can use Morris Traversal, a space-efficient variant of the in-order traversal.\n",
    "\n",
    "Morris Traversal uses threaded binary trees and does not require any additional space for storing the nodes\n",
    "in the in-order sequence. It allows us to find the two incorrect nodes and swap their values in-place.\n",
    "\n",
    "The steps to recover the BST using Morris Traversal are as follows:\n",
    "\n",
    "1.Initialize four pointers first, second, prev, and curr to keep track of the two nodes that need to be \n",
    " swapped (first and second), the previous node visited during the in-order traversal (prev), and the \n",
    "current node in the traversal (curr).\n",
    "\n",
    "2.Perform the Morris Traversal to find the two nodes that are incorrectly swapped. During the traversal:\n",
    "    a. If the left child of the current node is not null, find the rightmost node in the left subtree of \n",
    "     the current node and make it point to the current node. This step creates the threaded link for the \n",
    "    in-order traversal.\n",
    "    b. Check if the value of the current node is less than the value of the previous node (the node visited\n",
    "     before the current node). If it is, then the current node is one of the incorrectly swapped nodes. If \n",
    "     first is not yet set, set it to the previous node (as first will be the larger node among the two\n",
    "     incorrectly swapped nodes). If first is already set, set second to the current node (as second will be\n",
    "     the smaller node among the two incorrectly swapped nodes).\n",
    "    c. Move to the right child of the current node.\n",
    "\n",
    "3.After the traversal, swap the values of the nodes pointed by first and second."
   ]
  },
  {
   "cell_type": "markdown",
   "id": "3c63df4b-a92b-46d6-8cb4-93656e858c70",
   "metadata": {},
   "source": [
    "## 4.Covert Sorted Array to BST"
   ]
  },
  {
   "cell_type": "code",
   "execution_count": 48,
   "id": "14341806-6fbe-47d4-a613-6565a52efe15",
   "metadata": {},
   "outputs": [
    {
     "name": "stdout",
     "output_type": "stream",
     "text": [
      "<__main__.TreeNode object at 0x7f14f9ff89a0>\n",
      "<__main__.TreeNode object at 0x7f14f9fa4100>\n"
     ]
    }
   ],
   "source": [
    "class TreeNode:\n",
    "    def __init__(self, val=0, left=None, right=None):\n",
    "        self.val = val\n",
    "        self.left = left\n",
    "        self.right = right\n",
    "\n",
    "def sortedArrayToBST(nums):\n",
    "    if not nums:\n",
    "        return None\n",
    "\n",
    "    mid = len(nums) // 2\n",
    "    root = TreeNode(nums[mid])\n",
    "\n",
    "    root.left = sortedArrayToBST(nums[:mid])\n",
    "    root.right = sortedArrayToBST(nums[mid+1:])\n",
    "\n",
    "    return root\n",
    "\n",
    "# Test cases\n",
    "# Example 1\n",
    "nums1 = [-10, -3, 0, 5, 9]\n",
    "print( sortedArrayToBST(nums1))\n",
    "\n",
    "# Example 2\n",
    "nums2 = [1, 3] \n",
    "print( sortedArrayToBST(nums2))"
   ]
  },
  {
   "cell_type": "code",
   "execution_count": null,
   "id": "224faeb3-1df0-42cd-ac19-703489b04f3e",
   "metadata": {},
   "outputs": [],
   "source": [
    "To convert a sorted integer array into a height-balanced binary search tree (BST), we can use a recursive\n",
    "approach. The idea is to find the middle element of the array and make it the root of the BST. Then,\n",
    "recursively build the left and right subtrees using the left and right halves of the array.\n",
    "\n",
    "Here's how we can implement the algorithm:\n",
    "\n",
    "1.Define the TreeNode class to represent the nodes of the BST.\n",
    "\n",
    "2.Create a function sortedArrayToBST that takes the sorted integer array nums as input and returns the root\n",
    " of the height-balanced BST.\n",
    "\n",
    "3.In the sortedArrayToBST function, check for the base case when the array is empty or has only one element.\n",
    " In these cases, return the corresponding TreeNode.\n",
    "\n",
    "4.If the array has more than one element, find the middle element (mid) of the array. The middle element\n",
    " will be the root of the BST.\n",
    "\n",
    "5.Create a new TreeNode with the value nums[mid].\n",
    "\n",
    "6.Recursively call the sortedArrayToBST function for the left half of the array (from index 0 to mid - 1)\n",
    " and set the returned value as the left child of the current node.\n",
    "\n",
    "7.Recursively call the sortedArrayToBST function for the right half of the array (from mid + 1 to the end)\n",
    " and set the returned value as the right child of the current node.\n",
    "\n",
    "8.Return the current node as the root of the constructed BST."
   ]
  },
  {
   "cell_type": "markdown",
   "id": "4c8bbdfb-e4dc-455c-8593-e5be8de488f4",
   "metadata": {},
   "source": [
    "## 5.Lowest Common Ancestor of a Binary Search Tree"
   ]
  },
  {
   "cell_type": "code",
   "execution_count": null,
   "id": "b93f303b-eb07-4a53-8be4-22246c671686",
   "metadata": {},
   "outputs": [],
   "source": [
    "To find the lowest common ancestor (LCA) node of two given nodes in a binary search tree (BST), we can use\n",
    "the properties of a BST to efficiently find the LCA without having to traverse the entire tree.\n",
    "\n",
    "The algorithm to find the LCA of nodes p and q in a BST is as follows:\n",
    "\n",
    "1.Start from the root of the BST.\n",
    "\n",
    "2.Traverse the BST from the root, and at each step, compare the values of the current node with the values\n",
    " of p and q.\n",
    "\n",
    "3.If the value of the current node is greater than both p and q, move to the left subtree of the current \n",
    " node, as the LCA must be in the left subtree.\n",
    "\n",
    "4.If the value of the current node is less than both p and q, move to the right subtree of the current node,\n",
    " as the LCA must be in the right subtree.\n",
    "\n",
    "5.If the value of the current node is between p and q, or one of the nodes is equal to the value of the\n",
    " current node, then the current node is the LCA."
   ]
  },
  {
   "cell_type": "code",
   "execution_count": 51,
   "id": "e89a37a3-4812-4db1-9277-9fd9ab969fc5",
   "metadata": {},
   "outputs": [
    {
     "name": "stdout",
     "output_type": "stream",
     "text": [
      "<__main__.TreeNode object at 0x7f14f9f79ff0>\n",
      "<__main__.TreeNode object at 0x7f14f9f795a0>\n",
      "<__main__.TreeNode object at 0x7f15104db820>\n"
     ]
    }
   ],
   "source": [
    "class TreeNode:\n",
    "    def __init__(self, val=0, left=None, right=None):\n",
    "        self.val = val\n",
    "        self.left = left\n",
    "        self.right = right\n",
    "\n",
    "def lowestCommonAncestor(root, p, q):\n",
    "    while root:\n",
    "        if root.val > p.val and root.val > q.val:\n",
    "            root = root.left\n",
    "        elif root.val < p.val and root.val < q.val:\n",
    "            root = root.right\n",
    "        else:\n",
    "            return root\n",
    "\n",
    "# Test cases\n",
    "# Example 1\n",
    "root1 = TreeNode(6)\n",
    "root1.left = TreeNode(2)\n",
    "root1.right = TreeNode(8)\n",
    "root1.left.left = TreeNode(0)\n",
    "root1.left.right = TreeNode(4)\n",
    "root1.right.left = TreeNode(7)\n",
    "root1.right.right = TreeNode(9)\n",
    "root1.left.right.left = TreeNode(3)\n",
    "root1.left.right.right = TreeNode(5)\n",
    "p1 = TreeNode(2)\n",
    "q1 = TreeNode(8)\n",
    "result1 = lowestCommonAncestor(root1, p1, q1)  \n",
    "print(root1)\n",
    "\n",
    "# Example 2\n",
    "root2 = TreeNode(6)\n",
    "root2.left = TreeNode(2)\n",
    "root2.right = TreeNode(8)\n",
    "root2.left.left = TreeNode(0)\n",
    "root2.left.right = TreeNode(4)\n",
    "root2.right.left = TreeNode(7)\n",
    "root2.right.right = TreeNode(9)\n",
    "root2.left.right.left = TreeNode(3)\n",
    "root2.left.right.right = TreeNode(5)\n",
    "p2 = TreeNode(2)\n",
    "q2 = TreeNode(4)\n",
    "result2 = lowestCommonAncestor(root2, p2, q2)\n",
    "print(root2)\n",
    "\n",
    "# Example 3\n",
    "root3 = TreeNode(2)\n",
    "root3.left = TreeNode(1)\n",
    "p3 = TreeNode(2)\n",
    "q3 = TreeNode(1)\n",
    "result3 = lowestCommonAncestor(root3, p3, q3)  \n",
    "print(root3)"
   ]
  },
  {
   "cell_type": "markdown",
   "id": "24704eef-acf4-432a-abc4-ea7857bd8aea",
   "metadata": {},
   "source": [
    "## 6.Insert into a BST"
   ]
  },
  {
   "cell_type": "code",
   "execution_count": 52,
   "id": "ec22bf7e-8321-4064-91a1-be98f9dda6af",
   "metadata": {},
   "outputs": [
    {
     "name": "stdout",
     "output_type": "stream",
     "text": [
      "1 2 3 4 5 7 "
     ]
    }
   ],
   "source": [
    "class TreeNode:\n",
    "    def __init__(self, val=0, left=None, right=None):\n",
    "        self.val = val\n",
    "        self.left = left\n",
    "        self.right = right\n",
    "\n",
    "def insertIntoBST(root, val):\n",
    "    if not root:\n",
    "        return TreeNode(val)\n",
    "\n",
    "    if val < root.val:\n",
    "        root.left = insertIntoBST(root.left, val)\n",
    "    else:\n",
    "        root.right = insertIntoBST(root.right, val)\n",
    "\n",
    "    return root\n",
    "\n",
    "# Example usage:\n",
    "# Create the first example tree: [4,2,7,1,3]\n",
    "root = TreeNode(4)\n",
    "root.left = TreeNode(2)\n",
    "root.right = TreeNode(7)\n",
    "root.left.left = TreeNode(1)\n",
    "root.left.right = TreeNode(3)\n",
    "\n",
    "# Insert a new value 5 into the tree\n",
    "new_root = insertIntoBST(root, 5)\n",
    "\n",
    "# Print the tree in-order traversal to verify the result\n",
    "def inorder_traversal(node):\n",
    "    if node:\n",
    "        inorder_traversal(node.left)\n",
    "        print(node.val, end=\" \")\n",
    "        inorder_traversal(node.right)\n",
    "\n",
    "inorder_traversal(new_root)  "
   ]
  },
  {
   "cell_type": "code",
   "execution_count": null,
   "id": "97c5e8bf-99fb-4b13-a2d0-4e295e0c5cc8",
   "metadata": {},
   "outputs": [],
   "source": [
    "To insert a new value into a Binary Search Tree (BST), we need to follow the properties of a BST, which are:\n",
    "\n",
    "1.All nodes in the left subtree of a node should have values less than the node's value.\n",
    "2.All nodes in the right subtree of a node should have values greater than the node's value.\n",
    "3.There should be no duplicate values in the tree.\n",
    "\n",
    "We can perform the insertion recursively by traversing the tree based on the comparison of the new value\n",
    "with the current node's value."
   ]
  },
  {
   "cell_type": "markdown",
   "id": "0aacc6c7-d90f-485f-a941-ebe6a824c7d2",
   "metadata": {},
   "source": [
    "## 7.Number of Ways to Reorder Array to Get Same BST"
   ]
  },
  {
   "cell_type": "code",
   "execution_count": null,
   "id": "44455447-0229-4f5a-aa36-30224c2987e5",
   "metadata": {},
   "outputs": [],
   "source": [
    "MOD = 10**9 + 7\n",
    "\n",
    "def numOfWays(nums):\n",
    "    def count_ways(arr):\n",
    "        if len(arr) <= 1:\n",
    "            return 1\n",
    "\n",
    "        root = arr[0]\n",
    "        left = [x for x in arr if x < root]\n",
    "        right = [x for x in arr if x > root]\n",
    "\n",
    "        left_count = count_ways(left)\n",
    "        right_count = count_ways(right)\n",
    "\n",
    "        # Using combinatorics to calculate the number of ways to arrange the left and right subtrees\n",
    "        return (left_count * right_count * comb(len(left) + len(right), len(right))) % MOD\n",
    "\n",
    "    # Function to calculate the binomial coefficient\n",
    "    def comb(n, k):\n",
    "        res = 1\n",
    "        for i in range(1, k+2):\n",
    "            res = (res * (n - k + i) // i) % MOD\n",
    "        return res\n",
    "\n",
    "    nums.sort()  # Sorting the array to simplify the calculation\n",
    "    return count_ways(nums) - 1  # Subtract 1 as the original BST is counted\n",
    "\n",
    "# Example usage:\n",
    "nums = [2, 1, 3]\n",
    "print(numOfWays(nums))"
   ]
  },
  {
   "cell_type": "markdown",
   "id": "8cb59b88-2f2d-4e3d-bb3f-bc0ebe99cd61",
   "metadata": {},
   "source": [
    "##### 1"
   ]
  },
  {
   "cell_type": "code",
   "execution_count": null,
   "id": "cc194577-8303-4252-8add-a1ff3f1c9e46",
   "metadata": {},
   "outputs": [],
   "source": [
    "To find the number of different ways to reorder the array nums such that the constructed BST is identical to\n",
    "the original one, we can use combinatorics and recursive techniques.\n",
    "\n",
    "The basic idea is that the root of the BST will always be the maximum or minimum element of the array, and \n",
    "the left and right subtrees will be formed by the elements smaller and larger than the root, respectively."
   ]
  },
  {
   "cell_type": "code",
   "execution_count": null,
   "id": "9ed57026-c4e3-4768-a5e5-27fd89a706de",
   "metadata": {},
   "outputs": [],
   "source": [
    "MOD = 10**9 + 7\n",
    "\n",
    "def numOfWays(nums):\n",
    "    def count_ways(arr):\n",
    "        if len(arr) <= 1:\n",
    "            return 1\n",
    "\n",
    "        root = arr[0]\n",
    "        left = [x for x in arr if x < root]\n",
    "        right = [x for x in arr if x > root]\n",
    "\n",
    "        left_count = count_ways(left)\n",
    "        right_count = count_ways(right)\n",
    "\n",
    "        # Using combinatorics to calculate the number of ways to arrange the left and right subtrees\n",
    "        return (left_count * right_count * comb(len(left) + len(right), len(right))) % MOD\n",
    "\n",
    "    # Function to calculate the binomial coefficient\n",
    "    def comb(n, k):\n",
    "        res = 1\n",
    "        for i in range(1, k+1):\n",
    "            res = (res * (n - k + i) // i) % MOD\n",
    "        return res\n",
    "\n",
    "    nums.sort()  # Sorting the array to simplify the calculation\n",
    "    return count_ways(nums) - 1  # Subtract 1 as the original BST is counted\n",
    "\n",
    "# Example usage:\n",
    "nums = [3, 4, 5, 1, 2]\n",
    "print(numOfWays(nums)) "
   ]
  },
  {
   "cell_type": "markdown",
   "id": "cdf7e490-aa17-4acd-87de-597885cb0aa6",
   "metadata": {},
   "source": [
    "##### 5"
   ]
  },
  {
   "cell_type": "code",
   "execution_count": null,
   "id": "9cac5aaf-7879-4d9f-957d-d7ddd9f09ebe",
   "metadata": {},
   "outputs": [],
   "source": [
    "To find the number of different ways to reorder the array nums such that the constructed BST is identical to\n",
    "the original one, we can use combinatorics and recursive techniques, similar to the previous approach."
   ]
  },
  {
   "cell_type": "code",
   "execution_count": 56,
   "id": "adbe2053-92c6-4632-b320-8ab445d8e426",
   "metadata": {},
   "outputs": [
    {
     "name": "stdout",
     "output_type": "stream",
     "text": [
      "0\n"
     ]
    }
   ],
   "source": [
    "MOD = 10**9 + 7\n",
    "\n",
    "def numOfWays(nums):\n",
    "    def count_ways(arr):\n",
    "        if len(arr) <= 1:\n",
    "            return 1\n",
    "\n",
    "        root = arr[0]\n",
    "        left = [x for x in arr if x < root]\n",
    "        right = [x for x in arr if x > root]\n",
    "\n",
    "        left_count = count_ways(left)\n",
    "        right_count = count_ways(right)\n",
    "\n",
    "        # Using combinatorics to calculate the number of ways to arrange the left and right subtrees\n",
    "        return (left_count * right_count * comb(len(left) + len(right), len(right))) % MOD\n",
    "\n",
    "    # Function to calculate the binomial coefficient\n",
    "    def comb(n, k):\n",
    "        res = 1\n",
    "        for i in range(1, k+1):\n",
    "            res = (res * (n - k + i) // i) % MOD\n",
    "        return res\n",
    "\n",
    "    nums.sort()  # Sorting the array to simplify the calculation\n",
    "    return count_ways(nums) - 1  # Subtract 1 as the original BST is counted\n",
    "\n",
    "# Example usage:\n",
    "nums = [1, 2, 3]\n",
    "print(numOfWays(nums)) "
   ]
  },
  {
   "cell_type": "code",
   "execution_count": null,
   "id": "60dd3b29-ab7f-4fd8-a6b3-470caa397361",
   "metadata": {},
   "outputs": [],
   "source": [
    "In the case where nums = [1, 2, 3], there is only one possible way to reorder the array, which is [1, 2, 3]\n",
    "itself. Since there is only one permutation and it does not change the order, it will always yield the same\n",
    "BST as the original nums. Therefore, the output should be 1, not 0."
   ]
  },
  {
   "cell_type": "markdown",
   "id": "dad52f5d-4c71-4ba0-bfcb-dad12c8429d0",
   "metadata": {},
   "source": [
    "## 8.Minimum Absolute Difference in BST"
   ]
  },
  {
   "cell_type": "code",
   "execution_count": 57,
   "id": "2c23e51c-9ce9-47fd-b58d-74aa2e142a3b",
   "metadata": {},
   "outputs": [
    {
     "name": "stdout",
     "output_type": "stream",
     "text": [
      "1\n",
      "1\n"
     ]
    }
   ],
   "source": [
    "class TreeNode:\n",
    "    def __init__(self, val=0, left=None, right=None):\n",
    "        self.val = val\n",
    "        self.left = left\n",
    "        self.right = right\n",
    "\n",
    "def getMinimumDifference(root):\n",
    "    def in_order_traversal(node):\n",
    "        if not node:\n",
    "            return []\n",
    "\n",
    "        left = in_order_traversal(node.left)\n",
    "        right = in_order_traversal(node.right)\n",
    "\n",
    "        return left + [node.val] + right\n",
    "\n",
    "    sorted_values = in_order_traversal(root)\n",
    "\n",
    "    min_diff = float('inf')\n",
    "    for i in range(1, len(sorted_values)):\n",
    "        diff = sorted_values[i] - sorted_values[i - 1]\n",
    "        min_diff = min(min_diff, diff)\n",
    "\n",
    "    return min_diff\n",
    "\n",
    "# Example 1:\n",
    "root1 = TreeNode(4)\n",
    "root1.left = TreeNode(2)\n",
    "root1.right = TreeNode(6)\n",
    "root1.left.left = TreeNode(1)\n",
    "root1.left.right = TreeNode(3)\n",
    "\n",
    "print(getMinimumDifference(root1)) \n",
    "\n",
    "# Example 2:\n",
    "root2 = TreeNode(1)\n",
    "root2.left = TreeNode(0)\n",
    "root2.right = TreeNode(48)\n",
    "root2.right.left = TreeNode(12)\n",
    "root2.right.right = TreeNode(49)\n",
    "\n",
    "print(getMinimumDifference(root2))  "
   ]
  }
 ],
 "metadata": {
  "kernelspec": {
   "display_name": "Python 3 (ipykernel)",
   "language": "python",
   "name": "python3"
  },
  "language_info": {
   "codemirror_mode": {
    "name": "ipython",
    "version": 3
   },
   "file_extension": ".py",
   "mimetype": "text/x-python",
   "name": "python",
   "nbconvert_exporter": "python",
   "pygments_lexer": "ipython3",
   "version": "3.10.8"
  }
 },
 "nbformat": 4,
 "nbformat_minor": 5
}
